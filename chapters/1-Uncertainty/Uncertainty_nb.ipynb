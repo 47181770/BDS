{
 "cells": [
  {
   "cell_type": "markdown",
   "metadata": {},
   "source": [
    "# Uncertainty\n",
    "\n",
    "### Import data to R"
   ]
  },
  {
   "cell_type": "code",
   "execution_count": 1,
   "metadata": {},
   "outputs": [],
   "source": [
    "#Set the working directory to the specific location of the files on your computer\n",
    "#note: In this case, the working directory was set for my computer\n",
    "setwd(\"/Users/Brandon/Harding_ML_Class\")"
   ]
  },
  {
   "cell_type": "code",
   "execution_count": 2,
   "metadata": {},
   "outputs": [],
   "source": [
    "#Import the data file web-browsers into R\n",
    "browser <- read.csv(\"web-browsers.csv\")\n",
    "\n",
    "#note that since the imported dataset has column names, it will be treated as a dataframe"
   ]
  },
  {
   "cell_type": "markdown",
   "metadata": {},
   "source": [
    "### Let's view the size of our dataset and the first few rows to a get a feel for the web-browsers dataset. Note that the web-browser dataset will now be reffered to as browser"
   ]
  },
  {
   "cell_type": "code",
   "execution_count": 3,
   "metadata": {},
   "outputs": [
    {
     "data": {
      "text/html": [
       "<ol class=list-inline>\n",
       "\t<li>10000</li>\n",
       "\t<li>7</li>\n",
       "</ol>\n"
      ],
      "text/latex": [
       "\\begin{enumerate*}\n",
       "\\item 10000\n",
       "\\item 7\n",
       "\\end{enumerate*}\n"
      ],
      "text/markdown": [
       "1. 10000\n",
       "2. 7\n",
       "\n",
       "\n"
      ],
      "text/plain": [
       "[1] 10000     7"
      ]
     },
     "metadata": {},
     "output_type": "display_data"
    }
   ],
   "source": [
    "#View the dimensions of the browser dataset with dim()\n",
    "dim(browser)\n",
    "\n",
    "#output will be number of rows then number of columns"
   ]
  },
  {
   "cell_type": "code",
   "execution_count": 4,
   "metadata": {},
   "outputs": [
    {
     "data": {
      "text/html": [
       "<table>\n",
       "<thead><tr><th scope=col>id</th><th scope=col>anychildren</th><th scope=col>broadband</th><th scope=col>hispanic</th><th scope=col>race</th><th scope=col>region</th><th scope=col>spend</th></tr></thead>\n",
       "<tbody>\n",
       "\t<tr><td>1    </td><td>0    </td><td>1    </td><td>0    </td><td>white</td><td>MW   </td><td> 424 </td></tr>\n",
       "\t<tr><td>2    </td><td>1    </td><td>1    </td><td>0    </td><td>white</td><td>MW   </td><td>2335 </td></tr>\n",
       "\t<tr><td>3    </td><td>1    </td><td>1    </td><td>0    </td><td>white</td><td>MW   </td><td> 279 </td></tr>\n",
       "\t<tr><td>4    </td><td>0    </td><td>1    </td><td>0    </td><td>white</td><td>MW   </td><td> 829 </td></tr>\n",
       "\t<tr><td>5    </td><td>0    </td><td>1    </td><td>0    </td><td>white</td><td>S    </td><td> 221 </td></tr>\n",
       "\t<tr><td>6    </td><td>0    </td><td>1    </td><td>0    </td><td>white</td><td>MW   </td><td>2305 </td></tr>\n",
       "</tbody>\n",
       "</table>\n"
      ],
      "text/latex": [
       "\\begin{tabular}{r|lllllll}\n",
       " id & anychildren & broadband & hispanic & race & region & spend\\\\\n",
       "\\hline\n",
       "\t 1     & 0     & 1     & 0     & white & MW    &  424 \\\\\n",
       "\t 2     & 1     & 1     & 0     & white & MW    & 2335 \\\\\n",
       "\t 3     & 1     & 1     & 0     & white & MW    &  279 \\\\\n",
       "\t 4     & 0     & 1     & 0     & white & MW    &  829 \\\\\n",
       "\t 5     & 0     & 1     & 0     & white & S     &  221 \\\\\n",
       "\t 6     & 0     & 1     & 0     & white & MW    & 2305 \\\\\n",
       "\\end{tabular}\n"
      ],
      "text/markdown": [
       "\n",
       "id | anychildren | broadband | hispanic | race | region | spend | \n",
       "|---|---|---|---|---|---|\n",
       "| 1     | 0     | 1     | 0     | white | MW    |  424  | \n",
       "| 2     | 1     | 1     | 0     | white | MW    | 2335  | \n",
       "| 3     | 1     | 1     | 0     | white | MW    |  279  | \n",
       "| 4     | 0     | 1     | 0     | white | MW    |  829  | \n",
       "| 5     | 0     | 1     | 0     | white | S     |  221  | \n",
       "| 6     | 0     | 1     | 0     | white | MW    | 2305  | \n",
       "\n",
       "\n"
      ],
      "text/plain": [
       "  id anychildren broadband hispanic race  region spend\n",
       "1 1  0           1         0        white MW      424 \n",
       "2 2  1           1         0        white MW     2335 \n",
       "3 3  1           1         0        white MW      279 \n",
       "4 4  0           1         0        white MW      829 \n",
       "5 5  0           1         0        white S       221 \n",
       "6 6  0           1         0        white MW     2305 "
      ]
     },
     "metadata": {},
     "output_type": "display_data"
    },
    {
     "data": {
      "text/html": [
       "<table>\n",
       "<thead><tr><th></th><th scope=col>id</th><th scope=col>anychildren</th><th scope=col>broadband</th><th scope=col>hispanic</th><th scope=col>race</th><th scope=col>region</th><th scope=col>spend</th></tr></thead>\n",
       "<tbody>\n",
       "\t<tr><th scope=row>9995</th><td> 9995</td><td>1    </td><td>1    </td><td>0    </td><td>white</td><td>MW   </td><td>12146</td></tr>\n",
       "\t<tr><th scope=row>9996</th><td> 9996</td><td>1    </td><td>1    </td><td>1    </td><td>white</td><td>S    </td><td>  102</td></tr>\n",
       "\t<tr><th scope=row>9997</th><td> 9997</td><td>1    </td><td>1    </td><td>1    </td><td>white</td><td>MW   </td><td> 5096</td></tr>\n",
       "\t<tr><th scope=row>9998</th><td> 9998</td><td>1    </td><td>1    </td><td>0    </td><td>white</td><td>NE   </td><td>  883</td></tr>\n",
       "\t<tr><th scope=row>9999</th><td> 9999</td><td>0    </td><td>1    </td><td>0    </td><td>white</td><td>NE   </td><td>  256</td></tr>\n",
       "\t<tr><th scope=row>10000</th><td>10000</td><td>0    </td><td>0    </td><td>0    </td><td>white</td><td>NE   </td><td>    6</td></tr>\n",
       "</tbody>\n",
       "</table>\n"
      ],
      "text/latex": [
       "\\begin{tabular}{r|lllllll}\n",
       "  & id & anychildren & broadband & hispanic & race & region & spend\\\\\n",
       "\\hline\n",
       "\t9995 &  9995 & 1     & 1     & 0     & white & MW    & 12146\\\\\n",
       "\t9996 &  9996 & 1     & 1     & 1     & white & S     &   102\\\\\n",
       "\t9997 &  9997 & 1     & 1     & 1     & white & MW    &  5096\\\\\n",
       "\t9998 &  9998 & 1     & 1     & 0     & white & NE    &   883\\\\\n",
       "\t9999 &  9999 & 0     & 1     & 0     & white & NE    &   256\\\\\n",
       "\t10000 & 10000 & 0     & 0     & 0     & white & NE    &     6\\\\\n",
       "\\end{tabular}\n"
      ],
      "text/markdown": [
       "\n",
       "| <!--/--> | id | anychildren | broadband | hispanic | race | region | spend | \n",
       "|---|---|---|---|---|---|\n",
       "| 9995 |  9995 | 1     | 1     | 0     | white | MW    | 12146 | \n",
       "| 9996 |  9996 | 1     | 1     | 1     | white | S     |   102 | \n",
       "| 9997 |  9997 | 1     | 1     | 1     | white | MW    |  5096 | \n",
       "| 9998 |  9998 | 1     | 1     | 0     | white | NE    |   883 | \n",
       "| 9999 |  9999 | 0     | 1     | 0     | white | NE    |   256 | \n",
       "| 10000 | 10000 | 0     | 0     | 0     | white | NE    |     6 | \n",
       "\n",
       "\n"
      ],
      "text/plain": [
       "      id    anychildren broadband hispanic race  region spend\n",
       "9995   9995 1           1         0        white MW     12146\n",
       "9996   9996 1           1         1        white S        102\n",
       "9997   9997 1           1         1        white MW      5096\n",
       "9998   9998 1           1         0        white NE       883\n",
       "9999   9999 0           1         0        white NE       256\n",
       "10000 10000 0           0         0        white NE         6"
      ]
     },
     "metadata": {},
     "output_type": "display_data"
    }
   ],
   "source": [
    "#View the first 6 rows of browser with the function head\n",
    "head(browser)\n",
    "\n",
    "#Similarly, the last 6 rows of browser can be viewed with the tail function\n",
    "tail(browser)\n",
    "\n",
    "#note that for the tail function, Jupyter notebook gives an extra column only\n",
    "# in the output to show each of the observations index"
   ]
  },
  {
   "cell_type": "code",
   "execution_count": 5,
   "metadata": {},
   "outputs": [
    {
     "name": "stdout",
     "output_type": "stream",
     "text": [
      "'data.frame':\t10000 obs. of  7 variables:\n",
      " $ id         : int  1 2 3 4 5 6 7 8 9 10 ...\n",
      " $ anychildren: int  0 1 1 0 0 0 1 1 0 1 ...\n",
      " $ broadband  : int  1 1 1 1 1 1 1 1 1 1 ...\n",
      " $ hispanic   : int  0 0 0 0 0 0 0 0 0 0 ...\n",
      " $ race       : Factor w/ 4 levels \"asian\",\"black\",..: 4 4 4 4 4 4 4 1 4 4 ...\n",
      " $ region     : Factor w/ 4 levels \"MW\",\"NE\",\"S\",..: 1 1 1 1 3 1 3 1 4 2 ...\n",
      " $ spend      : int  424 2335 279 829 221 2305 18 5609 2313 185 ...\n"
     ]
    }
   ],
   "source": [
    "#To view the variables with their corresponding data types, us the str() function\n",
    "str(browser)\n",
    "\n",
    "#Note that Factor columns are categorical with number of levels being the number of categories\n",
    "# and Int or Float are numeric columns. The numbers for Factor columns listed in str() indicate\n",
    "# the index for the factor level. The levels for a factor variable can be viewed with levels()"
   ]
  },
  {
   "cell_type": "markdown",
   "metadata": {},
   "source": [
    "### Let's view a histogram plot of the variable spend for the browser dataset.\n",
    "\n",
    "#### You will notice that the first histogram will showcase the spend variable on its original scale and a second histogram on the log scale. The log scale will illustrate a roughly normal distribution for the spend variable."
   ]
  },
  {
   "cell_type": "code",
   "execution_count": 18,
   "metadata": {},
   "outputs": [
    {
     "data": {
      "text/plain": [
       "   Min. 1st Qu.  Median    Mean 3rd Qu.    Max. \n",
       "      1     162     510    1946    1523  401338 "
      ]
     },
     "metadata": {},
     "output_type": "display_data"
    },
    {
     "data": {
      "text/plain": [
       "   Min. 1st Qu.  Median    Mean 3rd Qu.    Max. \n",
       "      1     162     510    1946    1523  401338 "
      ]
     },
     "metadata": {},
     "output_type": "display_data"
    }
   ],
   "source": [
    "#View summary statistics for the spend column using the function summary\n",
    "summary(browser$spend)\n",
    "\n",
    "#Similarly, we can compute summary statistics for the variable spend through the command\n",
    "summary(browser[,\"spend\"])"
   ]
  },
  {
   "cell_type": "code",
   "execution_count": 6,
   "metadata": {},
   "outputs": [
    {
     "data": {
      "image/png": "[encoded data removed]",
      "text/plain": [
       "Plot with title “”"
      ]
     },
     "metadata": {},
     "output_type": "display_data"
    }
   ],
   "source": [
    "#Draw histogram for spend\n",
    "\n",
    "#set graphical parameters (this is only needed for jupyter notebooks)\n",
    "options(repr.plot.width = 5, repr.plot.height = 5)\n",
    "\n",
    "#The hist() function calls the histogram\n",
    "hist(browser$spend, freq=FALSE,\n",
    "     main=\"\", xlab=\"total online spend\", col=8, border=\"grey90\")"
   ]
  },
  {
   "cell_type": "code",
   "execution_count": 7,
   "metadata": {},
   "outputs": [
    {
     "data": {
      "image/png": "[encoded data removed]",
      "text/plain": [
       "Plot with title “”"
      ]
     },
     "metadata": {},
     "output_type": "display_data"
    }
   ],
   "source": [
    "#Draw histogram for the variable spend on the log scale\n",
    "\n",
    "#Take the log of the variable spend\n",
    "log_spend <- log(browser$spend)\n",
    "\n",
    "#Call the main histogram\n",
    "hist(log_spend, freq=FALSE, main=\"\", xlab=\"log of total online spend\", col=\"blue\", border=\"black\",\n",
    "     xaxt=\"n\" #tells hist function to not create the x-axis as it will be set in following function\n",
    "     )\n",
    "\n",
    "#Create a vector to signify the specific labels we want for the x-axis of the histogram\n",
    "lgrid = c(1,10,100,1000,10000,100000)\n",
    "\n",
    "#Set x-axis of histogram (don't worry to much with details of this axis function)\n",
    "axis(1, at=log(lgrid), labels=sprintf(\"%.0e\",lgrid))"
   ]
  },
  {
   "cell_type": "markdown",
   "metadata": {},
   "source": [
    "### Now that we've seen that the distribution of the log of the spend variable is roughly normal, let's create the sampling distribution."
   ]
  },
  {
   "cell_type": "code",
   "execution_count": 8,
   "metadata": {},
   "outputs": [
    {
     "data": {
      "text/html": [
       "1946.4393"
      ],
      "text/latex": [
       "1946.4393"
      ],
      "text/markdown": [
       "1946.4393"
      ],
      "text/plain": [
       "[1] 1946.439"
      ]
     },
     "metadata": {},
     "output_type": "display_data"
    }
   ],
   "source": [
    "#Calculate only the mean of the spend column\n",
    "mean(browser$spend)"
   ]
  },
  {
   "cell_type": "code",
   "execution_count": 9,
   "metadata": {},
   "outputs": [
    {
     "data": {
      "text/html": [
       "64619254.1869342"
      ],
      "text/latex": [
       "64619254.1869342"
      ],
      "text/markdown": [
       "64619254.1869342"
      ],
      "text/plain": [
       "[1] 64619254"
      ]
     },
     "metadata": {},
     "output_type": "display_data"
    }
   ],
   "source": [
    "#Calculate only the variance of the spend column\n",
    "var(browser$spend)"
   ]
  },
  {
   "cell_type": "code",
   "execution_count": 10,
   "metadata": {},
   "outputs": [
    {
     "data": {
      "text/html": [
       "8038.61021489002"
      ],
      "text/latex": [
       "8038.61021489002"
      ],
      "text/markdown": [
       "8038.61021489002"
      ],
      "text/plain": [
       "[1] 8038.61"
      ]
     },
     "metadata": {},
     "output_type": "display_data"
    }
   ],
   "source": [
    "#Calculate only the variance of the spend calumn\n",
    "sd(browser$spend)"
   ]
  },
  {
   "cell_type": "code",
   "execution_count": 11,
   "metadata": {},
   "outputs": [],
   "source": [
    "#If we consider the browser dataset to be a sample of 10,000 households,\n",
    "#then the sampling distribution's mean should be\n",
    "xbar <- mean(browser$spend)\n",
    "\n",
    "#the sampling distribution's standard deviation should be\n",
    "xbse <- sd(browser$spend)/sqrt(nrow(browser))\n",
    "\n",
    "#note that nrow() computes the number of rows/observations for a given datframe"
   ]
  },
  {
   "cell_type": "code",
   "execution_count": 12,
   "metadata": {},
   "outputs": [
    {
     "data": {
      "image/png": "[encoded data removed]",
      "text/plain": [
       "plot without title"
      ]
     },
     "metadata": {},
     "output_type": "display_data"
    }
   ],
   "source": [
    "#Plot the sampling distribution\n",
    "\n",
    "#First, create a vector of values to be fed in the sampling distrubtion pdf\n",
    "calc_values <- seq(1650,2250,length=1000)\n",
    "\n",
    "#Second, feed the values created above into the sampling distribution pdf created with dnorm function\n",
    "samp_pdf_values <- dnorm(calc_values, xbar, xbse)\n",
    "\n",
    "#Third, plot the calc_values versus the sample_pdf_values for a view of the sample distribution\n",
    "plot(calc_values, samp_pdf_values, type=\"l\", col=\"royalblue\", lwd=1.5,\n",
    "     xlab=\"average total online spend\", ylab=\"density\")"
   ]
  },
  {
   "cell_type": "markdown",
   "metadata": {},
   "source": [
    "## Nonparametric Bootstrap\n",
    "\n",
    "### Let's try to mimic the sampling distribution created under the central limit theorem with the nonparametric bootstrap method.\n",
    "\n",
    "In this case, we will perform repeated __sampling with replacement__ from the sample, the current sample being our browser's dataset. From each of these sample, we will calculate the mean and store the value. The resulting set of sample means can be used similar to the theoretical CLT case to find standard errors, etc."
   ]
  },
  {
   "cell_type": "code",
   "execution_count": 13,
   "metadata": {},
   "outputs": [],
   "source": [
    "#Set number of samples to be taken\n",
    "B <- 10000"
   ]
  },
  {
   "cell_type": "code",
   "execution_count": 14,
   "metadata": {},
   "outputs": [],
   "source": [
    "#Create an empty vector to store the calculated means of the samples\n",
    "mub <- c()"
   ]
  },
  {
   "cell_type": "code",
   "execution_count": 15,
   "metadata": {},
   "outputs": [],
   "source": [
    "#Contsruct a for-loop to calculate the mean of samples of the browser dataset\n",
    "for (b in 1:B){\n",
    "    #Sample indicies with replacement from 1 to the number of observations in browser\n",
    "    samp_b <- sample.int(nrow(browser), replace=TRUE)\n",
    "    #Take the mean of values selected in spend that match the indicies sampled above\n",
    "    b_mean <- mean(browser$spend[samp_b])\n",
    "    #Add b_mean to the vector that stores the sample mean values\n",
    "    mub[b] <- b_mean\n",
    "}"
   ]
  },
  {
   "cell_type": "code",
   "execution_count": 16,
   "metadata": {},
   "outputs": [
    {
     "data": {
      "text/html": [
       "1944.52019672"
      ],
      "text/latex": [
       "1944.52019672"
      ],
      "text/markdown": [
       "1944.52019672"
      ],
      "text/plain": [
       "[1] 1944.52"
      ]
     },
     "metadata": {},
     "output_type": "display_data"
    },
    {
     "data": {
      "text/html": [
       "81.1083384146399"
      ],
      "text/latex": [
       "81.1083384146399"
      ],
      "text/markdown": [
       "81.1083384146399"
      ],
      "text/plain": [
       "[1] 81.10834"
      ]
     },
     "metadata": {},
     "output_type": "display_data"
    }
   ],
   "source": [
    "#Calculate the mean and standard deviation of the sample of means collected above\n",
    "mean(mub)\n",
    "sd(mub)"
   ]
  },
  {
   "cell_type": "markdown",
   "metadata": {},
   "source": [
    "#### Let's view a histogram of the nonparametric bootstrap sample means overlayed with the theoretical sampling distribution under CLT."
   ]
  },
  {
   "cell_type": "code",
   "execution_count": 17,
   "metadata": {},
   "outputs": [
    {
     "data": {
      "image/png": "[encoded data removed]",
      "text/plain": [
       "Plot with title “”"
      ]
     },
     "metadata": {},
     "output_type": "display_data"
    }
   ],
   "source": [
    "#View a histogram of the sample means created through bootstrap\n",
    "hist(mub, main=\"\", xlab=\"average total online spend\",\n",
    "     col=8, border=\"grey90\", freq=FALSE)\n",
    "#Overlay the theoretical sampling distribution under CLT on the histogram\n",
    "lines(calc_values, samp_pdf_values, col=\"royalblue\", lwd=1.5)"
   ]
  },
  {
   "cell_type": "markdown",
   "metadata": {},
   "source": [
    "## Regression Example\n",
    "\n",
    "### The nonparametric bootstrap can be used to generate sampling distribution for regression parameters. Let's look at the following regression in which we regress the log of total household spending against households having broadband internet and any children (note: that both regressors are indicators).\n",
    "\n",
    "\\begin{align}\n",
    "\\log(spend) & = \\beta_0 + \\beta_1 1_{[broadband]} + \\beta_2 1_{[children]} + \\epsilon\n",
    "\\end{align}"
   ]
  },
  {
   "cell_type": "code",
   "execution_count": 19,
   "metadata": {},
   "outputs": [
    {
     "data": {
      "text/plain": [
       "\n",
       "Call:\n",
       "glm(formula = log(spend) ~ broadband + anychildren, data = browser)\n",
       "\n",
       "Deviance Residuals: \n",
       "    Min       1Q   Median       3Q      Max  \n",
       "-6.2379  -1.0787   0.0349   1.1292   6.5825  \n",
       "\n",
       "Coefficients:\n",
       "            Estimate Std. Error t value Pr(>|t|)    \n",
       "(Intercept)  5.68508    0.04403 129.119   <2e-16 ***\n",
       "broadband    0.55285    0.04357  12.689   <2e-16 ***\n",
       "anychildren  0.08216    0.03380   2.431   0.0151 *  \n",
       "---\n",
       "Signif. codes:  0 ‘***’ 0.001 ‘**’ 0.01 ‘*’ 0.05 ‘.’ 0.1 ‘ ’ 1\n",
       "\n",
       "(Dispersion parameter for gaussian family taken to be 2.737459)\n",
       "\n",
       "    Null deviance: 27828  on 9999  degrees of freedom\n",
       "Residual deviance: 27366  on 9997  degrees of freedom\n",
       "AIC: 38454\n",
       "\n",
       "Number of Fisher Scoring iterations: 2\n"
      ]
     },
     "metadata": {},
     "output_type": "display_data"
    }
   ],
   "source": [
    "##Estimating the regression parameters by least squares regression\n",
    "\n",
    "#Perform regression with glm command\n",
    "linereg <- glm( log(spend) ~ broadband + anychildren, data=browser)\n",
    "\n",
    "#View regression results\n",
    "sl <- summary(linereg)\n",
    "sl"
   ]
  },
  {
   "cell_type": "code",
   "execution_count": 20,
   "metadata": {},
   "outputs": [
    {
     "data": {
      "text/html": [
       "<ol class=list-inline>\n",
       "\t<li>0.465706324520159</li>\n",
       "\t<li>0.639987245923981</li>\n",
       "</ol>\n"
      ],
      "text/latex": [
       "\\begin{enumerate*}\n",
       "\\item 0.465706324520159\n",
       "\\item 0.639987245923981\n",
       "\\end{enumerate*}\n"
      ],
      "text/markdown": [
       "1. 0.465706324520159\n",
       "2. 0.639987245923981\n",
       "\n",
       "\n"
      ],
      "text/plain": [
       "[1] 0.4657063 0.6399872"
      ]
     },
     "metadata": {},
     "output_type": "display_data"
    }
   ],
   "source": [
    "#Notice from the regression results above, if we were to construct a 95% confidence interval\n",
    "# for broadband variable we would have the following\n",
    "\n",
    "sl$coefficients[\"broadband\",\"Estimate\"] + c(-2,2)*sl$coefficients[\"broadband\",\"Std. Error\"]"
   ]
  },
  {
   "cell_type": "markdown",
   "metadata": {},
   "source": [
    "#### Find regression parameters through nonparametric bootstrap approach."
   ]
  },
  {
   "cell_type": "code",
   "execution_count": 21,
   "metadata": {},
   "outputs": [],
   "source": [
    "##Perform nonparametric bootstrap\n",
    "\n",
    "#Set the number of repeated samples to perform\n",
    "B <- 1000\n",
    "\n",
    "#Create an empty vector to store the betas generated from boostrap\n",
    "betas <- c()\n",
    "\n",
    "#Construct for-loop to perform the boostrap\n",
    "for (b in 1:B) {\n",
    "    #Sample indicies with replacement from 1 to the number of observations in browser\n",
    "    samp_b = sample.int(nrow(browser), replace=TRUE)\n",
    "    #Reduce browser dataset down to observations that match the indicies selected in the sample above\n",
    "    reduced_browser <- browser[samp_b,]\n",
    "    #Perform regresson on the reduced dataframe with only the observations sampled\n",
    "    reg_b <- glm(log(spend) ~ broadband + anychildren, data=reduced_browser)\n",
    "    #Store the sample betas in the betas vector\n",
    "    betas <- rbind(betas, coef(reg_b))\n",
    "}"
   ]
  },
  {
   "cell_type": "markdown",
   "metadata": {},
   "source": [
    "#### Notice that each row of the betas matrix is a single draw of the joint distribution of the three regression parameters."
   ]
  },
  {
   "cell_type": "code",
   "execution_count": 22,
   "metadata": {},
   "outputs": [
    {
     "data": {
      "text/html": [
       "<table>\n",
       "<thead><tr><th scope=col>(Intercept)</th><th scope=col>broadband</th><th scope=col>anychildren</th></tr></thead>\n",
       "<tbody>\n",
       "\t<tr><td>5.726773  </td><td>0.5374252 </td><td>0.03035102</td></tr>\n",
       "\t<tr><td>5.735626  </td><td>0.5427143 </td><td>0.05674069</td></tr>\n",
       "\t<tr><td>5.669220  </td><td>0.6025585 </td><td>0.06066262</td></tr>\n",
       "\t<tr><td>5.712285  </td><td>0.5513549 </td><td>0.05521528</td></tr>\n",
       "\t<tr><td>5.635719  </td><td>0.5625429 </td><td>0.16112615</td></tr>\n",
       "\t<tr><td>5.609680  </td><td>0.6146876 </td><td>0.10016887</td></tr>\n",
       "</tbody>\n",
       "</table>\n"
      ],
      "text/latex": [
       "\\begin{tabular}{lll}\n",
       " (Intercept) & broadband & anychildren\\\\\n",
       "\\hline\n",
       "\t 5.726773   & 0.5374252  & 0.03035102\\\\\n",
       "\t 5.735626   & 0.5427143  & 0.05674069\\\\\n",
       "\t 5.669220   & 0.6025585  & 0.06066262\\\\\n",
       "\t 5.712285   & 0.5513549  & 0.05521528\\\\\n",
       "\t 5.635719   & 0.5625429  & 0.16112615\\\\\n",
       "\t 5.609680   & 0.6146876  & 0.10016887\\\\\n",
       "\\end{tabular}\n"
      ],
      "text/markdown": [
       "\n",
       "(Intercept) | broadband | anychildren | \n",
       "|---|---|---|---|---|---|\n",
       "| 5.726773   | 0.5374252  | 0.03035102 | \n",
       "| 5.735626   | 0.5427143  | 0.05674069 | \n",
       "| 5.669220   | 0.6025585  | 0.06066262 | \n",
       "| 5.712285   | 0.5513549  | 0.05521528 | \n",
       "| 5.635719   | 0.5625429  | 0.16112615 | \n",
       "| 5.609680   | 0.6146876  | 0.10016887 | \n",
       "\n",
       "\n"
      ],
      "text/plain": [
       "     (Intercept) broadband anychildren\n",
       "[1,] 5.726773    0.5374252 0.03035102 \n",
       "[2,] 5.735626    0.5427143 0.05674069 \n",
       "[3,] 5.669220    0.6025585 0.06066262 \n",
       "[4,] 5.712285    0.5513549 0.05521528 \n",
       "[5,] 5.635719    0.5625429 0.16112615 \n",
       "[6,] 5.609680    0.6146876 0.10016887 "
      ]
     },
     "metadata": {},
     "output_type": "display_data"
    }
   ],
   "source": [
    "#view the betas\n",
    "head(betas)"
   ]
  },
  {
   "cell_type": "code",
   "execution_count": 23,
   "metadata": {},
   "outputs": [
    {
     "data": {
      "text/html": [
       "-0.0274882166815706"
      ],
      "text/latex": [
       "-0.0274882166815706"
      ],
      "text/markdown": [
       "-0.0274882166815706"
      ],
      "text/plain": [
       "[1] -0.02748822"
      ]
     },
     "metadata": {},
     "output_type": "display_data"
    }
   ],
   "source": [
    "#Look at the sampling correlation between the broadband and children coefficients\n",
    "cor(betas[,\"broadband\"], betas[,\"anychildren\"])"
   ]
  },
  {
   "cell_type": "markdown",
   "metadata": {},
   "source": [
    "#### Let's look to compare the marginal (single variable) sampling distributions for the coefficients to the theoretical ones.\n",
    "\n",
    "#### For broadband coefficient:"
   ]
  },
  {
   "cell_type": "code",
   "execution_count": 24,
   "metadata": {},
   "outputs": [
    {
     "data": {
      "image/png": "[encoded data removed]",
      "text/plain": [
       "Plot with title “”"
      ]
     },
     "metadata": {},
     "output_type": "display_data"
    }
   ],
   "source": [
    "##Plot the histogram of the bootstrap broadband betas\n",
    "hist(betas[,2], main=\"\", xlab=\"broadband coefficient\",\n",
    "     col=8, border=\"grey90\", freq=FALSE)\n",
    "\n",
    "##Overlay the histogram with the theoretical pdf\n",
    "\n",
    "#First, create a vector of values to be fed in the sampling distrubtion pdf\n",
    "calc_values <- seq(min(betas[,2]),max(betas[,2]),length=100)\n",
    "\n",
    "#Second, feed the values created above into the sampling distribution pdf created with dnorm function\n",
    "samp_pdf_values <- dnorm(calc_values\n",
    "                         ,sl$coefficients[\"broadband\",\"Estimate\"]\n",
    "                         ,sl$coefficients[\"broadband\",\"Std. Error\"]\n",
    "                         )\n",
    "\n",
    "#Third, plot pdf on histogram\n",
    "lines(calc_values, samp_pdf_values, col=\"royalblue\", lwd=1.5)\n",
    "\n",
    "\n"
   ]
  },
  {
   "cell_type": "markdown",
   "metadata": {},
   "source": [
    "#### Further, let's consider the multiplicative effect of broadband on spending. This is simply an exponential tranformation of the betas we just calculated.\n",
    "\n",
    "#### For the broadband coefficient:"
   ]
  },
  {
   "cell_type": "code",
   "execution_count": 25,
   "metadata": {},
   "outputs": [
    {
     "data": {
      "image/png": "[encoded data removed]",
      "text/plain": [
       "Plot with title “”"
      ]
     },
     "metadata": {},
     "output_type": "display_data"
    }
   ],
   "source": [
    "#Exponentially transform the broadband betas\n",
    "exp_betas <- exp(betas[,2])\n",
    "\n",
    "#Plot a histogram of the exponential broadband betas to see the multiplicative effect\n",
    "hist(exp(betas[,2]), main=\"\", xlab=\"broadband multiplier\",\n",
    "     col=8, border=\"grey90\", freq=FALSE)\n",
    "\n"
   ]
  },
  {
   "cell_type": "markdown",
   "metadata": {},
   "source": [
    "## Parametric Bootstrap\n",
    "\n",
    "When the nonparametric bootstrap fails, look to use the parametric bootstrap. The parametric bootstrap functions by a repeated process of sampling from newly generated data specified by a fitted model."
   ]
  },
  {
   "cell_type": "code",
   "execution_count": 26,
   "metadata": {},
   "outputs": [],
   "source": [
    "#Build the fitted model to sample from\n",
    "xbar <- mean(browser$spend)\n",
    "sig2 <- var(browser$spend)"
   ]
  },
  {
   "cell_type": "code",
   "execution_count": 27,
   "metadata": {},
   "outputs": [],
   "source": [
    "##Perform parametric bootstrap\n",
    "\n",
    "#Set the number of repeated samples to perform\n",
    "B <- 1000\n",
    "\n",
    "#Create an empty vector to store the sample means generated from boostrap\n",
    "mus <- c()\n",
    "\n",
    "#Construct for-loop to perform the boostrap\n",
    "for (b in 1:B) {\n",
    "    #Randomly generate 1e4 observations from the normal distribution xbar and sig2\n",
    "    xsamp <- rnorm(n = 1e4, mean = xbar, sd = sqrt(sig2))\n",
    "    #Take the mean of values genratedabove\n",
    "    b_mean <- mean(xsamp)\n",
    "    #Add b_mean to the vector that stores the sample mean values\n",
    "    mus[b] <- b_mean\n",
    "}"
   ]
  },
  {
   "cell_type": "code",
   "execution_count": 28,
   "metadata": {},
   "outputs": [
    {
     "data": {
      "text/html": [
       "6138.82385707659"
      ],
      "text/latex": [
       "6138.82385707659"
      ],
      "text/markdown": [
       "6138.82385707659"
      ],
      "text/plain": [
       "[1] 6138.824"
      ]
     },
     "metadata": {},
     "output_type": "display_data"
    },
    {
     "data": {
      "text/html": [
       "78.3506468197716"
      ],
      "text/latex": [
       "78.3506468197716"
      ],
      "text/markdown": [
       "78.3506468197716"
      ],
      "text/plain": [
       "[1] 78.35065"
      ]
     },
     "metadata": {},
     "output_type": "display_data"
    },
    {
     "data": {
      "text/html": [
       "80.3861021489002"
      ],
      "text/latex": [
       "80.3861021489002"
      ],
      "text/markdown": [
       "80.3861021489002"
      ],
      "text/plain": [
       "[1] 80.3861"
      ]
     },
     "metadata": {},
     "output_type": "display_data"
    }
   ],
   "source": [
    "#Calculate variance and standard deviation of the sample of means collected above\n",
    "var(mus)\n",
    "sd(mus)\n",
    "\n",
    "#note that these values match up with that of the theoretical standard errors found below\n",
    "sqrt(sig2/1e4)"
   ]
  },
  {
   "cell_type": "markdown",
   "metadata": {},
   "source": [
    "## Nonparametric Bootstrap for Confidence Intervals\n",
    "\n",
    "Recall the sample variance of form \\begin{align} s^2 = \\sum_i (x_i - \\bar{x})^2/n \\end{align} is a biased estimate of the true population variance. We correct for this bias with the sample standard deviation of the form \\begin{align} \\sqrt{\\frac{s^2 n}{(n-1)}} \\end{align} Let's show this with a quick example."
   ]
  },
  {
   "cell_type": "code",
   "execution_count": 36,
   "metadata": {},
   "outputs": [
    {
     "data": {
      "text/html": [
       "13144.8474097532"
      ],
      "text/latex": [
       "13144.8474097532"
      ],
      "text/markdown": [
       "13144.8474097532"
      ],
      "text/plain": [
       "[1] 13144.85"
      ]
     },
     "metadata": {},
     "output_type": "display_data"
    }
   ],
   "source": [
    "#Take a small sample of 100 observations from browser\n",
    "smallsamp <- browser$spend[sample.int(nrow(browser),1000)]\n",
    "\n",
    "#Calculate the sample standard deviation of the small sample\n",
    "s <- sd(smallsamp) # sample variance\n",
    "s"
   ]
  },
  {
   "cell_type": "code",
   "execution_count": 37,
   "metadata": {},
   "outputs": [
    {
     "data": {
      "text/html": [
       "8038.61021489002"
      ],
      "text/latex": [
       "8038.61021489002"
      ],
      "text/markdown": [
       "8038.61021489002"
      ],
      "text/plain": [
       "[1] 8038.61"
      ]
     },
     "metadata": {},
     "output_type": "display_data"
    },
    {
     "data": {
      "text/html": [
       "1.63521393106048"
      ],
      "text/latex": [
       "1.63521393106048"
      ],
      "text/markdown": [
       "1.63521393106048"
      ],
      "text/plain": [
       "[1] 1.635214"
      ]
     },
     "metadata": {},
     "output_type": "display_data"
    }
   ],
   "source": [
    "#Calculate the standard deviation of the entire browser dataset\n",
    "sd(browser$spend)\n",
    "\n",
    "#View the proportional difference in magnitude of the standard deviations\n",
    "s/sd(browser$spend)"
   ]
  },
  {
   "cell_type": "markdown",
   "metadata": {},
   "source": [
    "### Notice that the small smaple standard deviation is more than 5% different in magnitude than the full sample standard deviation. The CI Bootstrap algorithm can help us correct for this inconsistency."
   ]
  },
  {
   "cell_type": "code",
   "execution_count": 38,
   "metadata": {},
   "outputs": [],
   "source": [
    "##Perform the CI Bootstrap algorithm\n",
    "\n",
    "#Set the number of repeated samples to perform\n",
    "B <- 10000\n",
    "\n",
    "#Create an empty vector to store the bootsrap errors\n",
    "eb <- c()\n",
    "\n",
    "for (b in 1:B){\n",
    "    #Resample with replacement 100 times from smallsamp generated above and take standard deviation\n",
    "    sb <- sd(smallsamp[sample.int(100, replace=TRUE)])\n",
    "    #Calculate the error between the samp_b standard deviation and the standard deviation of smallsamp\n",
    "    error_b <- sb-s\n",
    "    #Store the calculated error above in the eb vector\n",
    "    eb[b] <- error_b\n",
    "}"
   ]
  },
  {
   "cell_type": "code",
   "execution_count": 39,
   "metadata": {},
   "outputs": [
    {
     "data": {
      "text/html": [
       "-10932.6643769676"
      ],
      "text/latex": [
       "-10932.6643769676"
      ],
      "text/markdown": [
       "-10932.6643769676"
      ],
      "text/plain": [
       "[1] -10932.66"
      ]
     },
     "metadata": {},
     "output_type": "display_data"
    },
    {
     "data": {
      "text/html": [
       "24077.5117867209"
      ],
      "text/latex": [
       "24077.5117867209"
      ],
      "text/markdown": [
       "24077.5117867209"
      ],
      "text/plain": [
       "[1] 24077.51"
      ]
     },
     "metadata": {},
     "output_type": "display_data"
    },
    {
     "data": {
      "text/html": [
       "8038.61021489002"
      ],
      "text/latex": [
       "8038.61021489002"
      ],
      "text/markdown": [
       "8038.61021489002"
      ],
      "text/plain": [
       "[1] 8038.61"
      ]
     },
     "metadata": {},
     "output_type": "display_data"
    }
   ],
   "source": [
    "#Notice that the mean of the bootstrap errors is not 0, thus indicating our estimator is biased.\n",
    "mean(eb)\n",
    "\n",
    "#When we substract the errors off our full sample standard deviation s (look above)\n",
    "# we can correct for the bias\n",
    "mean(s-eb)\n",
    "#compare to\n",
    "sd(browser$spend)"
   ]
  },
  {
   "cell_type": "code",
   "execution_count": 40,
   "metadata": {},
   "outputs": [
    {
     "data": {
      "text/html": [
       "<dl class=dl-horizontal>\n",
       "\t<dt>5%</dt>\n",
       "\t\t<dd>-11496.7791044686</dd>\n",
       "\t<dt>95%</dt>\n",
       "\t\t<dd>-10393.7217377371</dd>\n",
       "</dl>\n"
      ],
      "text/latex": [
       "\\begin{description*}\n",
       "\\item[5\\textbackslash{}\\%] -11496.7791044686\n",
       "\\item[95\\textbackslash{}\\%] -10393.7217377371\n",
       "\\end{description*}\n"
      ],
      "text/markdown": [
       "5%\n",
       ":   -11496.779104468695%\n",
       ":   -10393.7217377371\n",
       "\n"
      ],
      "text/plain": [
       "       5%       95% \n",
       "-11496.78 -10393.72 "
      ]
     },
     "metadata": {},
     "output_type": "display_data"
    },
    {
     "data": {
      "text/html": [
       "<dl class=dl-horizontal>\n",
       "\t<dt>95%</dt>\n",
       "\t\t<dd>23538.5691474904</dd>\n",
       "\t<dt>5%</dt>\n",
       "\t\t<dd>24641.6265142219</dd>\n",
       "</dl>\n"
      ],
      "text/latex": [
       "\\begin{description*}\n",
       "\\item[95\\textbackslash{}\\%] 23538.5691474904\n",
       "\\item[5\\textbackslash{}\\%] 24641.6265142219\n",
       "\\end{description*}\n"
      ],
      "text/markdown": [
       "95%\n",
       ":   23538.56914749045%\n",
       ":   24641.6265142219\n",
       "\n"
      ],
      "text/plain": [
       "     95%       5% \n",
       "23538.57 24641.63 "
      ]
     },
     "metadata": {},
     "output_type": "display_data"
    }
   ],
   "source": [
    "##Construct a 90% confidence interval around s\n",
    "\n",
    "#Since the confidence interval uses a t-distribution, find the 5% and 95% values of the eb t-distribution\n",
    "tvals <- quantile(eb, c(0.05, 0.95))\n",
    "tvals\n",
    "\n",
    "#Create the 90% confidence interval\n",
    "s - tvals[2:1]"
   ]
  },
  {
   "cell_type": "markdown",
   "metadata": {},
   "source": [
    "## Hypothesis Testing and False Discovery Rate Control\n",
    "\n",
    "This section will walk through the implementation of the Benjamini-Hochberg (BH) FDR Control Algorithm. We will utlize the following regression for analysis\n",
    "\n",
    "\\begin{align}\n",
    "\\log(spend) & = \\beta_0 + \\beta_1 1_{[broadband]} + \\beta_2 1_{[children]} + \\beta_3 race + \\beta_4 ethnicity + \\beta_5 region + \\epsilon\n",
    "\\end{align}"
   ]
  },
  {
   "cell_type": "code",
   "execution_count": 41,
   "metadata": {},
   "outputs": [
    {
     "data": {
      "text/html": [
       "<table>\n",
       "<thead><tr><th></th><th scope=col>Estimate</th><th scope=col>Std. Error</th><th scope=col>t value</th><th scope=col>Pr(&gt;|t|)</th></tr></thead>\n",
       "<tbody>\n",
       "\t<tr><th scope=row>(Intercept)</th><td> 5.86</td><td>0.16 </td><td>36.34</td><td>0.00 </td></tr>\n",
       "\t<tr><th scope=row>anychildren</th><td> 0.09</td><td>0.03 </td><td> 2.54</td><td>0.01 </td></tr>\n",
       "\t<tr><th scope=row>broadband</th><td> 0.52</td><td>0.04 </td><td>11.93</td><td>0.00 </td></tr>\n",
       "\t<tr><th scope=row>hispanic</th><td>-0.18</td><td>0.04 </td><td>-4.30</td><td>0.00 </td></tr>\n",
       "\t<tr><th scope=row>raceblack</th><td>-0.25</td><td>0.18 </td><td>-1.41</td><td>0.16 </td></tr>\n",
       "\t<tr><th scope=row>raceother</th><td>-0.41</td><td>0.31 </td><td>-1.32</td><td>0.19 </td></tr>\n",
       "\t<tr><th scope=row>racewhite</th><td>-0.21</td><td>0.15 </td><td>-1.36</td><td>0.17 </td></tr>\n",
       "\t<tr><th scope=row>regionNE</th><td> 0.26</td><td>0.05 </td><td> 4.98</td><td>0.00 </td></tr>\n",
       "\t<tr><th scope=row>regionS</th><td> 0.01</td><td>0.04 </td><td> 0.13</td><td>0.90 </td></tr>\n",
       "\t<tr><th scope=row>regionW</th><td> 0.18</td><td>0.05 </td><td> 3.47</td><td>0.00 </td></tr>\n",
       "</tbody>\n",
       "</table>\n"
      ],
      "text/latex": [
       "\\begin{tabular}{r|llll}\n",
       "  & Estimate & Std. Error & t value & Pr(>\\textbar{}t\\textbar{})\\\\\n",
       "\\hline\n",
       "\t(Intercept) &  5.86 & 0.16  & 36.34 & 0.00 \\\\\n",
       "\tanychildren &  0.09 & 0.03  &  2.54 & 0.01 \\\\\n",
       "\tbroadband &  0.52 & 0.04  & 11.93 & 0.00 \\\\\n",
       "\thispanic & -0.18 & 0.04  & -4.30 & 0.00 \\\\\n",
       "\traceblack & -0.25 & 0.18  & -1.41 & 0.16 \\\\\n",
       "\traceother & -0.41 & 0.31  & -1.32 & 0.19 \\\\\n",
       "\tracewhite & -0.21 & 0.15  & -1.36 & 0.17 \\\\\n",
       "\tregionNE &  0.26 & 0.05  &  4.98 & 0.00 \\\\\n",
       "\tregionS &  0.01 & 0.04  &  0.13 & 0.90 \\\\\n",
       "\tregionW &  0.18 & 0.05  &  3.47 & 0.00 \\\\\n",
       "\\end{tabular}\n"
      ],
      "text/markdown": [
       "\n",
       "| <!--/--> | Estimate | Std. Error | t value | Pr(>|t|) | \n",
       "|---|---|---|---|---|---|---|---|---|---|\n",
       "| (Intercept) |  5.86 | 0.16  | 36.34 | 0.00  | \n",
       "| anychildren |  0.09 | 0.03  |  2.54 | 0.01  | \n",
       "| broadband |  0.52 | 0.04  | 11.93 | 0.00  | \n",
       "| hispanic | -0.18 | 0.04  | -4.30 | 0.00  | \n",
       "| raceblack | -0.25 | 0.18  | -1.41 | 0.16  | \n",
       "| raceother | -0.41 | 0.31  | -1.32 | 0.19  | \n",
       "| racewhite | -0.21 | 0.15  | -1.36 | 0.17  | \n",
       "| regionNE |  0.26 | 0.05  |  4.98 | 0.00  | \n",
       "| regionS |  0.01 | 0.04  |  0.13 | 0.90  | \n",
       "| regionW |  0.18 | 0.05  |  3.47 | 0.00  | \n",
       "\n",
       "\n"
      ],
      "text/plain": [
       "            Estimate Std. Error t value Pr(>|t|)\n",
       "(Intercept)  5.86    0.16       36.34   0.00    \n",
       "anychildren  0.09    0.03        2.54   0.01    \n",
       "broadband    0.52    0.04       11.93   0.00    \n",
       "hispanic    -0.18    0.04       -4.30   0.00    \n",
       "raceblack   -0.25    0.18       -1.41   0.16    \n",
       "raceother   -0.41    0.31       -1.32   0.19    \n",
       "racewhite   -0.21    0.15       -1.36   0.17    \n",
       "regionNE     0.26    0.05        4.98   0.00    \n",
       "regionS      0.01    0.04        0.13   0.90    \n",
       "regionW      0.18    0.05        3.47   0.00    "
      ]
     },
     "metadata": {},
     "output_type": "display_data"
    }
   ],
   "source": [
    "#Perform the regression above\n",
    "spendy <- glm( log(spend) ~ .-id, data=browser)\n",
    "\n",
    "#Extract coefficient table rounded to two decimal places\n",
    "round(summary(spendy)$coef,2)"
   ]
  },
  {
   "cell_type": "code",
   "execution_count": 42,
   "metadata": {},
   "outputs": [],
   "source": [
    "#Extract p-values for each regressor from the regression ouput\n",
    "pval <- summary(spendy)$coef[-1,\"Pr(>|t|)\"]"
   ]
  },
  {
   "cell_type": "markdown",
   "metadata": {},
   "source": [
    "### Assume we want to control our FDR such that it is no more than 0.25. We will showcase which variables we accept as significant based on the BH algorithm through a simple graphical plot.\n",
    "\n",
    "1. The first step in the BH algorithm is to  generate the p-values for the regressors which was performed above.\n",
    "2. The second step is to arrange our p-values from smallest to largest .\n",
    "3. The third step is to generate the p-value cutoffs for each p-value based on p(k) <= (q/n)*k for k is the k order statistic (By using a grapghical plot, each p-value cutoff is the point on the line with slope q/n with q being the specified FDR cutoff and n being the number of coefficients excluding the intercept\n",
    "\n",
    "Note the following code will generate a graphical plot to view the variables that are significant according to the BH algorithm. These variables will fall below the black line."
   ]
  },
  {
   "cell_type": "code",
   "execution_count": 43,
   "metadata": {},
   "outputs": [
    {
     "data": {
      "image/png": "[encoded data removed]",
      "text/plain": [
       "plot without title"
      ]
     },
     "metadata": {},
     "output_type": "display_data"
    }
   ],
   "source": [
    "###Construct a plot for which variables are significant\n",
    "\n",
    "##Sort the p-values from smallest to greatest\n",
    "sorted_p <- sort(pval)\n",
    "\n",
    "##Plot p-values\n",
    "plot(sorted_p, bty=\"n\", xlab=\"rank\", ylab=\"p-values\")\n",
    "\n",
    "##Add the line of significance\n",
    "#Define q\n",
    "q <- 0.25\n",
    "#Define n\n",
    "n <- 9\n",
    "#Add line to plot\n",
    "abline(a=0, b=.25/9)\n",
    "\n",
    "##Distinguish p-values that are under the line of significance\n",
    "points(sorted_p[1:8], col=2, pch=20)"
   ]
  },
  {
   "cell_type": "code",
   "execution_count": null,
   "metadata": {},
   "outputs": [],
   "source": []
  }
 ],
 "metadata": {
  "kernelspec": {
   "display_name": "R",
   "language": "R",
   "name": "ir"
  },
  "language_info": {
   "codemirror_mode": "r",
   "file_extension": ".r",
   "mimetype": "text/x-r-source",
   "name": "R",
   "pygments_lexer": "r",
   "version": "3.5.1"
  }
 },
 "nbformat": 4,
 "nbformat_minor": 2
}
