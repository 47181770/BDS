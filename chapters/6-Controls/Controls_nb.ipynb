{
 "cells": [
  {
   "cell_type": "markdown",
   "metadata": {},
   "source": [
    "# Controls"
   ]
  },
  {
   "cell_type": "markdown",
   "metadata": {},
   "source": [
    "Necessary packages:\n",
    "1. AER (if in anaconda package manager, search 'r-aer')\n",
    "2. glmnet (if in anaconda package manager, search 'r-glmnet')\n",
    "3. Matrix (if in anaconda package manager, search 'r-matrix')"
   ]
  },
  {
   "cell_type": "markdown",
   "metadata": {},
   "source": [
    "## Coditional Ignorability\n",
    "\n",
    "Coditional Ignorability (CI) implies that you have observed all of the variables that influence both the treatment and the response. While it is impossible to control everything, the hope is that enough _main_ factors can be controlled for such that the results are _believable_.\n",
    "\n",
    "To rentroduce the idea of controls, we will refer back to the oj.csv dataset to run the regression log(sales) against log(price) with three different types of available oj brands. We will run three regressions:\n",
    "1. Basefit to demonstrate a regression without controlling for oj brand type.\n",
    "2. Brandfit to demonstrate a multiple linear regression that includes a control for brand type.\n",
    "3. Partial Linear Treatment Effects\n",
    "\n",
    "### Partial Linear Treatment Effects (PLTE)\n",
    "\n",
    "This is a structural model for conditional ignorability in that we regress a treatment variable (d) and a response of interest (y) on a set of covariates (x) that influence the treatment and the response. The structural model appears as follows:\n",
    "\n",
    "#### Route 1\n",
    "1. Regress confounders on treatment variable (d) \\begin{align} d = x'\\tau + v \\end{align} where v is independent of $\\epsilon$\n",
    "2. Obtain fitted values for $\\hat{d}$\n",
    "3. Regress y on fitted values of treatment, observed treatment values, and confounders \\begin{align} y = \\hat{d}\\theta + d\\gamma + x'\\beta + epsilon \\end{align}\n",
    "where $\\epsilon$ is independent of d\n",
    "\n",
    "#### Route 2\n",
    "\n",
    "We know that $\\hat{v} = d - \\hat{d}$ so PLTE can also work by\n",
    "\n",
    "1. Regress treatment variable on confounders (d)  \\begin{align} d = x'\\tau + v \\end{align} where v is independent of $\\epsilon$\n",
    "2. Obtain fitted residuals for $\\hat{d}$ noted as $\\hat{v}$ \n",
    "3. Regress y on fitted residuals of treatment variable and confounders \\begin{align} y = \\hat{v}\\gamma + x'\\beta + epsilon \\end{align}\n",
    "where $\\epsilon$ is independent of d\n",
    "\n"
   ]
  },
  {
   "cell_type": "code",
   "execution_count": 1,
   "metadata": {},
   "outputs": [],
   "source": [
    "#Set the working directory to the specific location of the files on your computer\n",
    "#note: In this case, the working directory was set for my computer\n",
    "setwd(\"/Users/Brandon/Harding_ML_Class\")\n",
    "\n",
    "#set graphical parameters (this is only needed for jupyter notebooks)\n",
    "options(repr.plot.width = 10, repr.plot.height = 5)"
   ]
  },
  {
   "cell_type": "markdown",
   "metadata": {},
   "source": [
    "#### Localized Linear Regression: Fit a linear regression to each window"
   ]
  },
  {
   "cell_type": "code",
   "execution_count": 2,
   "metadata": {},
   "outputs": [],
   "source": [
    "#Read in the data\n",
    "oj <- read.csv(\"oj.csv\")"
   ]
  },
  {
   "cell_type": "code",
   "execution_count": 3,
   "metadata": {},
   "outputs": [
    {
     "data": {
      "text/html": [
       "<dl class=dl-horizontal>\n",
       "\t<dt>(Intercept)</dt>\n",
       "\t\t<dd>10.4234223275753</dd>\n",
       "\t<dt>log(price)</dt>\n",
       "\t\t<dd>-1.60130655250771</dd>\n",
       "</dl>\n"
      ],
      "text/latex": [
       "\\begin{description*}\n",
       "\\item[(Intercept)] 10.4234223275753\n",
       "\\item[log(price)] -1.60130655250771\n",
       "\\end{description*}\n"
      ],
      "text/markdown": [
       "(Intercept)\n",
       ":   10.4234223275753log(price)\n",
       ":   -1.60130655250771\n",
       "\n"
      ],
      "text/plain": [
       "(Intercept)  log(price) \n",
       "  10.423422   -1.601307 "
      ]
     },
     "metadata": {},
     "output_type": "display_data"
    }
   ],
   "source": [
    "#Regress log(sales) on log(price) without controlling for brand\n",
    "basefit <- lm(log(sales) ~ log(price), data=oj)\n",
    "coef(basefit)"
   ]
  },
  {
   "cell_type": "code",
   "execution_count": 4,
   "metadata": {},
   "outputs": [
    {
     "data": {
      "text/html": [
       "<dl class=dl-horizontal>\n",
       "\t<dt>(Intercept)</dt>\n",
       "\t\t<dd>10.8288215795648</dd>\n",
       "\t<dt>brandminute.maid</dt>\n",
       "\t\t<dd>0.870174651651169</dd>\n",
       "\t<dt>brandtropicana</dt>\n",
       "\t\t<dd>1.52994276420622</dd>\n",
       "\t<dt>log(price)</dt>\n",
       "\t\t<dd>-3.13869142792194</dd>\n",
       "</dl>\n"
      ],
      "text/latex": [
       "\\begin{description*}\n",
       "\\item[(Intercept)] 10.8288215795648\n",
       "\\item[brandminute.maid] 0.870174651651169\n",
       "\\item[brandtropicana] 1.52994276420622\n",
       "\\item[log(price)] -3.13869142792194\n",
       "\\end{description*}\n"
      ],
      "text/markdown": [
       "(Intercept)\n",
       ":   10.8288215795648brandminute.maid\n",
       ":   0.870174651651169brandtropicana\n",
       ":   1.52994276420622log(price)\n",
       ":   -3.13869142792194\n",
       "\n"
      ],
      "text/plain": [
       "     (Intercept) brandminute.maid   brandtropicana       log(price) \n",
       "      10.8288216        0.8701747        1.5299428       -3.1386914 "
      ]
     },
     "metadata": {},
     "output_type": "display_data"
    }
   ],
   "source": [
    "#Regress log(sales) on log(price) WITH controlling for brand\n",
    "brandfit <- lm(log(sales) ~ brand + log(price), data=oj)\n",
    "coef(brandfit)"
   ]
  },
  {
   "cell_type": "code",
   "execution_count": 5,
   "metadata": {},
   "outputs": [
    {
     "data": {
      "text/html": [
       "<dl class=dl-horizontal>\n",
       "\t<dt>(Intercept)</dt>\n",
       "\t\t<dd>9.24059225311457</dd>\n",
       "\t<dt>phat</dt>\n",
       "\t\t<dd>3.01389953008485</dd>\n",
       "\t<dt>log(price)</dt>\n",
       "\t\t<dd>-3.13869142792194</dd>\n",
       "\t<dt>brandminute.maid</dt>\n",
       "\t\t<dd>0.075357091595569</dd>\n",
       "\t<dt>brandtropicana</dt>\n",
       "\t\t<dd>&lt;NA&gt;</dd>\n",
       "</dl>\n"
      ],
      "text/latex": [
       "\\begin{description*}\n",
       "\\item[(Intercept)] 9.24059225311457\n",
       "\\item[phat] 3.01389953008485\n",
       "\\item[log(price)] -3.13869142792194\n",
       "\\item[brandminute.maid] 0.075357091595569\n",
       "\\item[brandtropicana] <NA>\n",
       "\\end{description*}\n"
      ],
      "text/markdown": [
       "(Intercept)\n",
       ":   9.24059225311457phat\n",
       ":   3.01389953008485log(price)\n",
       ":   -3.13869142792194brandminute.maid\n",
       ":   0.075357091595569brandtropicana\n",
       ":   &lt;NA&gt;\n",
       "\n"
      ],
      "text/plain": [
       "     (Intercept)             phat       log(price) brandminute.maid \n",
       "      9.24059225       3.01389953      -3.13869143       0.07535709 \n",
       "  brandtropicana \n",
       "              NA "
      ]
     },
     "metadata": {},
     "output_type": "display_data"
    }
   ],
   "source": [
    "##Perform PLTE model\n",
    "\n",
    "#Route 1:\n",
    "\n",
    "#Refer to log(price) as treatment d and regress log(price) first against covariates brand\n",
    "pricereg <- lm(log(price) ~ brand, data=oj)\n",
    "\n",
    "#Obtain fitted values for log(price) and residuals\n",
    "phat <- predict(pricereg, newdata=oj)\n",
    "\n",
    "#Regress residuals onto log(sales) and extract coefficient\n",
    "coef( residfit <- lm( log(sales) ~ phat + log(price) + brand, data=oj) )\n",
    "\n",
    "##note: look at coefficient on log(price)"
   ]
  },
  {
   "cell_type": "code",
   "execution_count": 6,
   "metadata": {},
   "outputs": [
    {
     "data": {
      "text/html": [
       "<dl class=dl-horizontal>\n",
       "\t<dt>(Intercept)</dt>\n",
       "\t\t<dd>9.1748308865296</dd>\n",
       "\t<dt>presid</dt>\n",
       "\t\t<dd>-3.13869142792194</dd>\n",
       "\t<dt>brandminute.maid</dt>\n",
       "\t\t<dd>0.0424473045361476</dd>\n",
       "\t<dt>brandtropicana</dt>\n",
       "\t\t<dd>-0.0633479846363819</dd>\n",
       "</dl>\n"
      ],
      "text/latex": [
       "\\begin{description*}\n",
       "\\item[(Intercept)] 9.1748308865296\n",
       "\\item[presid] -3.13869142792194\n",
       "\\item[brandminute.maid] 0.0424473045361476\n",
       "\\item[brandtropicana] -0.0633479846363819\n",
       "\\end{description*}\n"
      ],
      "text/markdown": [
       "(Intercept)\n",
       ":   9.1748308865296presid\n",
       ":   -3.13869142792194brandminute.maid\n",
       ":   0.0424473045361476brandtropicana\n",
       ":   -0.0633479846363819\n",
       "\n"
      ],
      "text/plain": [
       "     (Intercept)           presid brandminute.maid   brandtropicana \n",
       "      9.17483089      -3.13869143       0.04244730      -0.06334798 "
      ]
     },
     "metadata": {},
     "output_type": "display_data"
    }
   ],
   "source": [
    "##Perform PLTE model\n",
    "\n",
    "#Route 2:\n",
    "\n",
    "#Refer to log(price) as treatment d and regress log(price) first against covariates brand\n",
    "pricereg <- lm(log(price) ~ brand, data=oj)\n",
    "\n",
    "#Obtain  residuals\n",
    "phat <- predict(pricereg, newdata=oj)\n",
    "presid <- log(oj$price)-phat\n",
    "\n",
    "#Regress residuals onto log(sales) and extract coefficient\n",
    "coef( residfit <- lm( log(sales) ~ presid + brand, data=oj) )\n",
    "\n",
    "#note: look at coefficient on phat and that exactly matches the coefficient on log(price) above"
   ]
  },
  {
   "cell_type": "markdown",
   "metadata": {},
   "source": [
    "## High Dimensional Confounder Adjustment\n",
    "\n",
    "To understand this concept, we will work through an example that asks the question: Easier access to abortion causes decreased crime?\n",
    "\n",
    "The response variable $y_{st}$ is murder rate logged in state s at year t. The treatment variable $d_{st}$ is an effective abortion rate, measured in terms of number of legal abortions per 10 live births.\n",
    "\n",
    "The list of confounders $x_{st}$ is prison, police, ur, inc, pov, AFDC, gun, and beer:\n",
    "\n",
    "prison: log of lagged prisoners per capita\n",
    "police: the log of lagged police per capita\n",
    "ur: the unemployment rate\n",
    "inc: per-capita income\n",
    "pov: the poverty rate\n",
    "AFDC: generosity at year t-15\n",
    "gun: dummy for concealed weapons law\n",
    "beer: beer consumption per capita \n",
    "\n",
    "\n",
    "The abortion 'a_' variables are weighted average of abortion rates where weights are determined by the fraction of the type of crime committed by various age groups. For example, if 60% of violent crime were committed by 18 year olds and 40% were committed by 19 year olds in state i, the abortion rate for violent crime at time t in state i would be constructed as .6 times the abortion rate in state i at time t − 18 plus .4 times the abortion rate in state i at time t − 19. See Donohue and Levitt (2001) for further detail.\n",
    "\n",
    "Thus, we will work to estimate the model:\n",
    "\n",
    "### \\begin{align} \\mathbb{E}[y_{st}] = \\alpha_s + t\\delta_t + d_{st}\\gamma + x'_{st}\\beta \\end{align}"
   ]
  },
  {
   "cell_type": "code",
   "execution_count": 17,
   "metadata": {},
   "outputs": [],
   "source": [
    "#Import data\n",
    "data <- read.table(\"abortion.dat\", skip=1, sep=\"\\t\")\n",
    "names(data) <- c(\"state\",\"year\",\"pop\",\"y_viol\",\"y_prop\",\"y_murd\",\n",
    "    \"a_murd\",\"a_viol\",\"a_prop\",'prison','police',\n",
    "    'ur','inc','pov','afdc','gun','beer')"
   ]
  },
  {
   "cell_type": "code",
   "execution_count": 18,
   "metadata": {},
   "outputs": [],
   "source": [
    "#Clean data\n",
    "data <- data[!(data$state%in%c(2,9,12)),] # AK, DC, HA are strange places\n",
    "data <- data[data$year>84 & data$year<98,] # incomplete data outside these years\n",
    "data$pop <- log(data$pop)\n",
    "t <- data$year - 85\n",
    "s <- factor(data$state) ## the states are numbered alphabetically"
   ]
  },
  {
   "cell_type": "code",
   "execution_count": 19,
   "metadata": {},
   "outputs": [
    {
     "name": "stdout",
     "output_type": "stream",
     "text": [
      "'data.frame':\t624 obs. of  17 variables:\n",
      " $ state : int  1 1 1 1 1 1 1 1 1 1 ...\n",
      " $ year  : int  85 86 87 88 89 90 91 92 93 94 ...\n",
      " $ pop   : num  8.29 8.29 8.3 8.3 8.3 ...\n",
      " $ y_viol: num  1.53 1.73 1.74 1.75 1.8 ...\n",
      " $ y_prop: num  3.56 3.63 3.68 3.71 3.72 ...\n",
      " $ y_murd: num  -2.31 -2.28 -2.36 -2.29 -2.26 ...\n",
      " $ a_murd: num  0.00086 0.00135 0.00525 0.00968 0.02221 ...\n",
      " $ a_viol: num  0.00915 0.0141 0.03155 0.05182 0.08807 ...\n",
      " $ a_prop: num  0.0362 0.0551 0.105 0.1633 0.2502 ...\n",
      " $ prison: num  0.953 0.995 1.058 1.144 1.122 ...\n",
      " $ police: num  0.763 0.791 0.819 0.88 0.941 ...\n",
      " $ ur    : num  0.0891 0.0983 0.0777 0.0721 0.0703 ...\n",
      " $ inc   : num  9.7 9.75 9.76 9.78 9.8 ...\n",
      " $ pov   : num  20.6 23.8 21.3 19.3 18.9 19.2 18.8 17.1 17.4 16.4 ...\n",
      " $ afdc  : num  3078 2806 3456 3210 3789 ...\n",
      " $ gun   : int  1 1 1 1 1 1 1 1 1 1 ...\n",
      " $ beer  : num  18.7 19.3 19.4 19.4 19.4 20.1 20.1 20.4 20.3 21 ...\n"
     ]
    }
   ],
   "source": [
    "str(data)"
   ]
  },
  {
   "cell_type": "code",
   "execution_count": 20,
   "metadata": {},
   "outputs": [],
   "source": [
    "##Extract the controls, treatment, and response variables\n",
    "\n",
    "#Extract the controls\n",
    "controls <- data.frame(data[,c(3,10:17)])\n",
    "\n",
    "## y is de-trended log crime rate, a is as described below\n",
    "## note we also have violent and property crime versions\n",
    "y <- data$y_murd\n",
    "d <- data$a_murd"
   ]
  },
  {
   "cell_type": "code",
   "execution_count": 21,
   "metadata": {},
   "outputs": [
    {
     "data": {
      "text/html": [
       "<table>\n",
       "<thead><tr><th></th><th scope=col>pop</th><th scope=col>prison</th><th scope=col>police</th><th scope=col>ur</th><th scope=col>inc</th><th scope=col>pov</th><th scope=col>afdc</th><th scope=col>gun</th><th scope=col>beer</th></tr></thead>\n",
       "<tbody>\n",
       "\t<tr><th scope=row>20</th><td>8.287277 </td><td>0.9526656</td><td>0.7626628</td><td>0.08908  </td><td>9.703193 </td><td>20.6     </td><td>3077.629 </td><td>1        </td><td>18.7     </td></tr>\n",
       "\t<tr><th scope=row>21</th><td>8.292048 </td><td>0.9952912</td><td>0.7909027</td><td>0.09833  </td><td>9.745950 </td><td>23.8     </td><td>2805.778 </td><td>1        </td><td>19.3     </td></tr>\n",
       "\t<tr><th scope=row>22</th><td>8.297793 </td><td>1.0584020</td><td>0.8189143</td><td>0.07775  </td><td>9.762092 </td><td>21.3     </td><td>3455.742 </td><td>1        </td><td>19.4     </td></tr>\n",
       "\t<tr><th scope=row>23</th><td>8.300032 </td><td>1.1438180</td><td>0.8803344</td><td>0.07208  </td><td>9.781770 </td><td>19.3     </td><td>3210.000 </td><td>1        </td><td>19.4     </td></tr>\n",
       "\t<tr><th scope=row>24</th><td>8.301522 </td><td>1.1219460</td><td>0.9410318</td><td>0.07025  </td><td>9.802527 </td><td>18.9     </td><td>3789.493 </td><td>1        </td><td>19.4     </td></tr>\n",
       "\t<tr><th scope=row>25</th><td>8.306472 </td><td>1.2144630</td><td>0.9891075</td><td>0.06775  </td><td>9.814290 </td><td>19.2     </td><td>3436.729 </td><td>1        </td><td>20.1     </td></tr>\n",
       "</tbody>\n",
       "</table>\n"
      ],
      "text/latex": [
       "\\begin{tabular}{r|lllllllll}\n",
       "  & pop & prison & police & ur & inc & pov & afdc & gun & beer\\\\\n",
       "\\hline\n",
       "\t20 & 8.287277  & 0.9526656 & 0.7626628 & 0.08908   & 9.703193  & 20.6      & 3077.629  & 1         & 18.7     \\\\\n",
       "\t21 & 8.292048  & 0.9952912 & 0.7909027 & 0.09833   & 9.745950  & 23.8      & 2805.778  & 1         & 19.3     \\\\\n",
       "\t22 & 8.297793  & 1.0584020 & 0.8189143 & 0.07775   & 9.762092  & 21.3      & 3455.742  & 1         & 19.4     \\\\\n",
       "\t23 & 8.300032  & 1.1438180 & 0.8803344 & 0.07208   & 9.781770  & 19.3      & 3210.000  & 1         & 19.4     \\\\\n",
       "\t24 & 8.301522  & 1.1219460 & 0.9410318 & 0.07025   & 9.802527  & 18.9      & 3789.493  & 1         & 19.4     \\\\\n",
       "\t25 & 8.306472  & 1.2144630 & 0.9891075 & 0.06775   & 9.814290  & 19.2      & 3436.729  & 1         & 20.1     \\\\\n",
       "\\end{tabular}\n"
      ],
      "text/markdown": [
       "\n",
       "| <!--/--> | pop | prison | police | ur | inc | pov | afdc | gun | beer | \n",
       "|---|---|---|---|---|---|\n",
       "| 20 | 8.287277  | 0.9526656 | 0.7626628 | 0.08908   | 9.703193  | 20.6      | 3077.629  | 1         | 18.7      | \n",
       "| 21 | 8.292048  | 0.9952912 | 0.7909027 | 0.09833   | 9.745950  | 23.8      | 2805.778  | 1         | 19.3      | \n",
       "| 22 | 8.297793  | 1.0584020 | 0.8189143 | 0.07775   | 9.762092  | 21.3      | 3455.742  | 1         | 19.4      | \n",
       "| 23 | 8.300032  | 1.1438180 | 0.8803344 | 0.07208   | 9.781770  | 19.3      | 3210.000  | 1         | 19.4      | \n",
       "| 24 | 8.301522  | 1.1219460 | 0.9410318 | 0.07025   | 9.802527  | 18.9      | 3789.493  | 1         | 19.4      | \n",
       "| 25 | 8.306472  | 1.2144630 | 0.9891075 | 0.06775   | 9.814290  | 19.2      | 3436.729  | 1         | 20.1      | \n",
       "\n",
       "\n"
      ],
      "text/plain": [
       "   pop      prison    police    ur      inc      pov  afdc     gun beer\n",
       "20 8.287277 0.9526656 0.7626628 0.08908 9.703193 20.6 3077.629 1   18.7\n",
       "21 8.292048 0.9952912 0.7909027 0.09833 9.745950 23.8 2805.778 1   19.3\n",
       "22 8.297793 1.0584020 0.8189143 0.07775 9.762092 21.3 3455.742 1   19.4\n",
       "23 8.300032 1.1438180 0.8803344 0.07208 9.781770 19.3 3210.000 1   19.4\n",
       "24 8.301522 1.1219460 0.9410318 0.07025 9.802527 18.9 3789.493 1   19.4\n",
       "25 8.306472 1.2144630 0.9891075 0.06775 9.814290 19.2 3436.729 1   20.1"
      ]
     },
     "metadata": {},
     "output_type": "display_data"
    }
   ],
   "source": [
    "head(controls)"
   ]
  },
  {
   "cell_type": "code",
   "execution_count": 22,
   "metadata": {},
   "outputs": [
    {
     "data": {
      "text/html": [
       "<dl class=dl-horizontal>\n",
       "\t<dt>Estimate</dt>\n",
       "\t\t<dd>-0.209811946154279</dd>\n",
       "\t<dt>Std. Error</dt>\n",
       "\t\t<dd>0.0410917700855321</dd>\n",
       "\t<dt>t value</dt>\n",
       "\t\t<dd>-5.10593595061875</dd>\n",
       "\t<dt>Pr(&gt;|t|)</dt>\n",
       "\t\t<dd>4.50592549107457e-07</dd>\n",
       "</dl>\n"
      ],
      "text/latex": [
       "\\begin{description*}\n",
       "\\item[Estimate] -0.209811946154279\n",
       "\\item[Std. Error] 0.0410917700855321\n",
       "\\item[t value] -5.10593595061875\n",
       "\\item[Pr(>\\textbackslash{}textbar\\{\\}t\\textbackslash{}textbar\\{\\})] 4.50592549107457e-07\n",
       "\\end{description*}\n"
      ],
      "text/markdown": [
       "Estimate\n",
       ":   -0.209811946154279Std. Error\n",
       ":   0.0410917700855321t value\n",
       ":   -5.10593595061875Pr(&amp;gt;|t|)\n",
       ":   4.50592549107457e-07\n",
       "\n"
      ],
      "text/plain": [
       "     Estimate    Std. Error       t value      Pr(>|t|) \n",
       "-2.098119e-01  4.109177e-02 -5.105936e+00  4.505925e-07 "
      ]
     },
     "metadata": {},
     "output_type": "display_data"
    }
   ],
   "source": [
    "#Use OLS to fit the regression above\n",
    "orig <- glm(y ~ d + t + s +., data=controls)\n",
    "\n",
    "#View model summary\n",
    "summary(orig)$coef['d',]\n",
    "beta_orig <- summary(orig)$coef['d',\"Estimate\"]\n",
    "\n",
    "#NOTE: This result differs from textbook."
   ]
  },
  {
   "cell_type": "code",
   "execution_count": 23,
   "metadata": {},
   "outputs": [
    {
     "data": {
      "text/html": [
       "0.19"
      ],
      "text/latex": [
       "0.19"
      ],
      "text/markdown": [
       "0.19"
      ],
      "text/plain": [
       "[1] 0.19"
      ]
     },
     "metadata": {},
     "output_type": "display_data"
    }
   ],
   "source": [
    "#We find that 100 more abortions per 1000 live births leads to a 19% reduction in the per-capita murder rate\n",
    "round(1 - exp(beta_orig),2)"
   ]
  },
  {
   "cell_type": "markdown",
   "metadata": {},
   "source": [
    "#### This is the levitt analysis: higher abortion leads to lower crime. That abortion is only one factor influencing crime in the late 1980s points out the caution required in drawing any conclusions regarding an abortion-crime link based on time series evidence alone.\n",
    "\n",
    "#### Consider the alternative story that cellphone use has caused lower murder rates. Note that the phone variable is the aggregate US rate in this model). We will work to estimate the model:\n",
    "\n",
    "### \\begin{align} \\mathbb{E}[y_{st}] = \\alpha_s + t\\delta_t + \\gamma (phone)+ x'_{st}\\beta \\end{align}"
   ]
  },
  {
   "cell_type": "code",
   "execution_count": 24,
   "metadata": {},
   "outputs": [],
   "source": [
    "#Import cellphone data\n",
    "cell <- read.csv(\"us_cellphone.csv\")\n",
    "\n",
    "# center on 1985 and scale by 1997-1985\n",
    "cellrate <- 5*cell[,2]/(1000*cell[,3])"
   ]
  },
  {
   "cell_type": "code",
   "execution_count": 25,
   "metadata": {},
   "outputs": [
    {
     "data": {
      "text/html": [
       "<dl class=dl-horizontal>\n",
       "\t<dt>Estimate</dt>\n",
       "\t\t<dd>-0.37207232221727</dd>\n",
       "\t<dt>Std. Error</dt>\n",
       "\t\t<dd>0.0693226153021625</dd>\n",
       "\t<dt>t value</dt>\n",
       "\t\t<dd>-5.36725743244808</dd>\n",
       "\t<dt>Pr(&gt;|t|)</dt>\n",
       "\t\t<dd>1.16863650800909e-07</dd>\n",
       "</dl>\n"
      ],
      "text/latex": [
       "\\begin{description*}\n",
       "\\item[Estimate] -0.37207232221727\n",
       "\\item[Std. Error] 0.0693226153021625\n",
       "\\item[t value] -5.36725743244808\n",
       "\\item[Pr(>\\textbackslash{}textbar\\{\\}t\\textbackslash{}textbar\\{\\})] 1.16863650800909e-07\n",
       "\\end{description*}\n"
      ],
      "text/markdown": [
       "Estimate\n",
       ":   -0.37207232221727Std. Error\n",
       ":   0.0693226153021625t value\n",
       ":   -5.36725743244808Pr(&amp;gt;|t|)\n",
       ":   1.16863650800909e-07\n",
       "\n"
      ],
      "text/plain": [
       "     Estimate    Std. Error       t value      Pr(>|t|) \n",
       "-3.720723e-01  6.932262e-02 -5.367257e+00  1.168637e-07 "
      ]
     },
     "metadata": {},
     "output_type": "display_data"
    }
   ],
   "source": [
    "#Perform regression\n",
    "phone <- cellrate[t+1]\n",
    "tech <- glm(y ~ phone + s + t +., data=controls)\n",
    "summary(tech)$coef['phone',]"
   ]
  },
  {
   "cell_type": "code",
   "execution_count": 26,
   "metadata": {},
   "outputs": [
    {
     "data": {
      "text/html": [
       "0.31"
      ],
      "text/latex": [
       "0.31"
      ],
      "text/markdown": [
       "0.31"
      ],
      "text/plain": [
       "[1] 0.31"
      ]
     },
     "metadata": {},
     "output_type": "display_data"
    }
   ],
   "source": [
    "#Adding one cellphone per every 5 americans results in a 31% drop in the murder rate\n",
    "beta_tech <- summary(tech)$coef['phone',\"Estimate\"]\n",
    "round(1 - exp(beta_tech),2)"
   ]
  },
  {
   "cell_type": "markdown",
   "metadata": {},
   "source": [
    "#### Let's now view a plot of US abortion and cellphone rates during our sample."
   ]
  },
  {
   "cell_type": "code",
   "execution_count": 27,
   "metadata": {},
   "outputs": [
    {
     "data": {
      "image/png": "[encoded data removed]",
      "text/plain": [
       "plot without title"
      ]
     },
     "metadata": {},
     "output_type": "display_data"
    }
   ],
   "source": [
    "#Construct plot\n",
    "plot(1985:1997, tapply(d, t, mean), bty=\"n\", xlab=\"year\", ylab=\"rate\", pch=21, bg=2)\n",
    "points(1985:1997, cellrate, bg=4, pch=21)\n",
    "legend(\"topleft\", fill=c(2,4), legend=c(\"abortions\",\"cellphones\"), bty=\"n\")"
   ]
  },
  {
   "cell_type": "markdown",
   "metadata": {},
   "source": [
    "#### What is happening here is that murder has been increasing quadratically, and we have no other controls that do so.  To be correct, you need to allow quadratic trends that could be caused by other confounding variables (e.g. technology). We also allow interaction between the controls, and interact the nation-wide phone variable with state dummies to allow for state specific tech adoption.\n",
    "\n",
    "### \\begin{align} \\mathbb{E}[y_{st}] = \\alpha_s + t\\delta_t + d_{st}\\delta + \\gamma(phone) + \\theta(phone_s) + x'_{st}\\beta \\end{align}"
   ]
  },
  {
   "cell_type": "code",
   "execution_count": 28,
   "metadata": {},
   "outputs": [
    {
     "data": {
      "text/html": [
       "<dl class=dl-horizontal>\n",
       "\t<dt>Estimate</dt>\n",
       "\t\t<dd>0.279710654345335</dd>\n",
       "\t<dt>Std. Error</dt>\n",
       "\t\t<dd>0.18073111308634</dd>\n",
       "\t<dt>t value</dt>\n",
       "\t\t<dd>1.54766188050703</dd>\n",
       "\t<dt>Pr(&gt;|t|)</dt>\n",
       "\t\t<dd>0.122375348876937</dd>\n",
       "</dl>\n"
      ],
      "text/latex": [
       "\\begin{description*}\n",
       "\\item[Estimate] 0.279710654345335\n",
       "\\item[Std. Error] 0.18073111308634\n",
       "\\item[t value] 1.54766188050703\n",
       "\\item[Pr(>\\textbackslash{}textbar\\{\\}t\\textbackslash{}textbar\\{\\})] 0.122375348876937\n",
       "\\end{description*}\n"
      ],
      "text/markdown": [
       "Estimate\n",
       ":   0.279710654345335Std. Error\n",
       ":   0.18073111308634t value\n",
       ":   1.54766188050703Pr(&amp;gt;|t|)\n",
       ":   0.122375348876937\n",
       "\n"
      ],
      "text/plain": [
       "  Estimate Std. Error    t value   Pr(>|t|) \n",
       " 0.2797107  0.1807311  1.5476619  0.1223753 "
      ]
     },
     "metadata": {},
     "output_type": "display_data"
    }
   ],
   "source": [
    "#Perform the regression\n",
    "t <- factor(t)\n",
    "interact <- glm(y ~ d + t + phone*s + .^2, data=controls)\n",
    "summary(interact)$coef[\"d\",]"
   ]
  },
  {
   "cell_type": "code",
   "execution_count": 29,
   "metadata": {},
   "outputs": [
    {
     "data": {
      "text/html": [
       "<ol class=list-inline>\n",
       "\t<li>624</li>\n",
       "\t<li>154</li>\n",
       "</ol>\n"
      ],
      "text/latex": [
       "\\begin{enumerate*}\n",
       "\\item 624\n",
       "\\item 154\n",
       "\\end{enumerate*}\n"
      ],
      "text/markdown": [
       "1. 624\n",
       "2. 154\n",
       "\n",
       "\n"
      ],
      "text/plain": [
       "[1] 624 154"
      ]
     },
     "metadata": {},
     "output_type": "display_data"
    }
   ],
   "source": [
    "#### Treatment variable d (number of abortions) is no longer significant as n is roughly equal to p\n",
    "dim(model.matrix(formula(interact), data=controls))"
   ]
  },
  {
   "cell_type": "markdown",
   "metadata": {},
   "source": [
    "## Better Control for Confounders by  Modeling Treatment Assignment Process\n",
    "\n",
    "### PLTE Lasso Regression\n",
    "\n",
    "This follows from the PLTE framework above and works in a stepwise fashion. Look to pg163 in textbook for more details.\n",
    "1. Use a CV or AICc Lasso regress the treatment allocation against any potential confounders and collect the fitted values for treatment allocation. ($\\hat{d}_i = \\mathbb{E}[d|x] = f(x'\\tau)$)\n",
    "2. Use a second CV or AICc lasso to estimate\n",
    "\\begin{align} \\mathbb{E}[y|x,d] = \\hat{d}\\theta + d\\gamma + x'\\beta \\end{align}\n",
    "with no penalty on $\\theta$\n",
    "\n",
    "Thus, $\\hat{\\gamma}$ is the treatment effect estimate of d on y.\n",
    "\n",
    "#### Recall the abortion and cellphone example from the last section. let's use the PTLE lasso regression to model data."
   ]
  },
  {
   "cell_type": "code",
   "execution_count": 30,
   "metadata": {},
   "outputs": [],
   "source": [
    "#Refactor state to have NA reference level\n",
    "sna <- factor(s, levels=c(NA,levels(s)), exclude=NULL)"
   ]
  },
  {
   "cell_type": "code",
   "execution_count": 31,
   "metadata": {},
   "outputs": [
    {
     "data": {
      "text/html": [
       "<ol class=list-inline>\n",
       "\t<li>624</li>\n",
       "\t<li>154</li>\n",
       "</ol>\n"
      ],
      "text/latex": [
       "\\begin{enumerate*}\n",
       "\\item 624\n",
       "\\item 154\n",
       "\\end{enumerate*}\n"
      ],
      "text/markdown": [
       "1. 624\n",
       "2. 154\n",
       "\n",
       "\n"
      ],
      "text/plain": [
       "[1] 624 154"
      ]
     },
     "metadata": {},
     "output_type": "display_data"
    }
   ],
   "source": [
    "#Generate a sparse model matrix\n",
    "library(Matrix)\n",
    "x <- sparse.model.matrix( ~ t + phone*sna + .^2, data=controls)[,-1]\n",
    "dim(x)"
   ]
  },
  {
   "cell_type": "code",
   "execution_count": 32,
   "metadata": {},
   "outputs": [
    {
     "name": "stderr",
     "output_type": "stream",
     "text": [
      "Loading required package: foreach\n",
      "Loaded glmnet 2.0-16\n",
      "\n",
      "Warning message:\n",
      "“'cBind' is deprecated.\n",
      " Since R version 3.2.0, base's cbind() should work fine with S4 objects”"
     ]
    },
    {
     "data": {
      "text/html": [
       "-0.121141078249168"
      ],
      "text/latex": [
       "-0.121141078249168"
      ],
      "text/markdown": [
       "-0.121141078249168"
      ],
      "text/plain": [
       "[1] -0.1211411"
      ]
     },
     "metadata": {},
     "output_type": "display_data"
    }
   ],
   "source": [
    "#Perform naive lasso regression\n",
    "library(\"glmnet\")\n",
    "naive <- cv.glmnet(cBind(d,x),y,nfolds=5)\n",
    "coef(naive)[\"d\",] # effect is CV selected <0"
   ]
  },
  {
   "cell_type": "code",
   "execution_count": 33,
   "metadata": {},
   "outputs": [
    {
     "data": {
      "text/html": [
       "0.980362062192349"
      ],
      "text/latex": [
       "0.980362062192349"
      ],
      "text/markdown": [
       "0.980362062192349"
      ],
      "text/plain": [
       "[1] 0.9803621"
      ]
     },
     "metadata": {},
     "output_type": "display_data"
    }
   ],
   "source": [
    "##Perform PTLE lasso regression\n",
    "\n",
    "#Regress treatment variable on confounders\n",
    "treat <- cv.glmnet(x,d, lambda.min.ratio=1e-4, nfolds=5)\n",
    "\n",
    "#Get fitted residuals\n",
    "dhat <- drop( predict(treat, x, select=\"min\") )\n",
    "\n",
    "#Look at correlation between d and dhat\n",
    "cor(drop(dhat),d)^2"
   ]
  },
  {
   "cell_type": "markdown",
   "metadata": {},
   "source": [
    "#### Notice that the plot below demonstrates that dhat covers most of d."
   ]
  },
  {
   "cell_type": "code",
   "execution_count": 34,
   "metadata": {},
   "outputs": [
    {
     "data": {
      "image/png": "[encoded data removed]",
      "text/plain": [
       "plot without title"
      ]
     },
     "metadata": {},
     "output_type": "display_data"
    }
   ],
   "source": [
    "#Plot dhat\n",
    "plot(dhat,d,bty=\"n\",pch=21,bg=8, cex=.8, yaxt=\"n\")\n",
    "axis(2, at=c(0,1,2,3)) "
   ]
  },
  {
   "cell_type": "markdown",
   "metadata": {},
   "source": [
    "#### Now run lasso regression with d, dhat, and confounders and no penalty on dhat"
   ]
  },
  {
   "cell_type": "code",
   "execution_count": 35,
   "metadata": {},
   "outputs": [],
   "source": [
    "##In glmnet, we set variables to exclude from penalty by setting their penalty.factor=0\n",
    "# note: variables with penalty.factor=1 are treated normally, and penalty.factor=inf are excluded from modeling\n",
    "\n",
    "#Create a vector of repeating ones of length of x plus 2 for d and dhat\n",
    "p.fac <- rep(1,(ncol(x) + 2))\n",
    "\n",
    "#Set the second item in the p.fac vector equal to zero such that dhat has no penalty\n",
    "p.fac[2] <- 0"
   ]
  },
  {
   "cell_type": "code",
   "execution_count": 36,
   "metadata": {},
   "outputs": [
    {
     "data": {
      "text/html": [
       "0"
      ],
      "text/latex": [
       "0"
      ],
      "text/markdown": [
       "0"
      ],
      "text/plain": [
       "[1] 0"
      ]
     },
     "metadata": {},
     "output_type": "display_data"
    }
   ],
   "source": [
    "### Re-run lasso, with this (2nd column) included unpenalized\n",
    "causal <- cv.glmnet(cBind(d,dhat,x),y,penalty.factor=p.fac,lambda.min.ratio=1e-4, nfolds=5)\n",
    "coef(causal, select=\"min\")[\"d\",]"
   ]
  },
  {
   "cell_type": "markdown",
   "metadata": {},
   "source": [
    "## Sample Splitting and Orthogonal Machine Learning\n",
    "\n",
    "PTLE Lasso regression can give good point estimates for treatment effects, yet lack in providing good standard errors for inferential analysis. Even a nonparametric bootstrap leads to less satifactory results in this case. However, a multiple stage approach using sample splitting can accomplish the task. In this sample splitting approach, the data is split for example into two pieces where th emodel is selected on one piece, and conditional upon the selected model, standard inference is done on the other piece.\n",
    "\n",
    "#### We return to the abortion example from above."
   ]
  },
  {
   "cell_type": "markdown",
   "metadata": {},
   "source": [
    "### Double ML for PTLE\n",
    "\n",
    "This algorithm provides a general technique for sample splitting with high dimensional controls. The algorithm is as follows:\n",
    "1. Split the data into K random and roughly equivalenrt folds\n",
    "2. Nuisance estimation: (a) estimate $\\hat{\\mathbb{E}}[d|x]$ and $\\hat{\\mathbb{E}}[y|x]$ using all data but kth fold and (b) then calculate out of sample residuals for k-th fold\n",
    "3. Fit OLS regression onto the OOS residuals from step 2 and fit \\begin{align} \\mathbb{E}[\\tilde{y}|\\tilde{d}] = \\alpha + \\tilde{d}\\gamma \\end{align}\n",
    "4. Take resulting $\\hat{\\gamma}$ with heteroskedastic consistent standard errors to get confidence interval for treatment effect"
   ]
  },
  {
   "cell_type": "code",
   "execution_count": 39,
   "metadata": {},
   "outputs": [
    {
     "name": "stderr",
     "output_type": "stream",
     "text": [
      "Loading required package: car\n",
      "Loading required package: carData\n",
      "Loading required package: lmtest\n",
      "Loading required package: zoo\n",
      "\n",
      "Attaching package: ‘zoo’\n",
      "\n",
      "The following objects are masked from ‘package:base’:\n",
      "\n",
      "    as.Date, as.Date.numeric\n",
      "\n",
      "Loading required package: sandwich\n",
      "Loading required package: survival\n"
     ]
    }
   ],
   "source": [
    "#Define a function orthoPLTE to perform Double ML to PTLE\n",
    "library('AER')\n",
    "\n",
    "orthoPLTE <- function(x, d, y, dreg, yreg, nfold=2)\n",
    "{\n",
    "    # Step 1: randomly split data into folds\n",
    "    nobs <- nrow(x)\n",
    "    foldid <- rep.int(1:nfold, \n",
    "        times = ceiling(nobs/nfold))[sample.int(nobs)]\n",
    "    I <- split(1:nobs, foldid)\n",
    "    \n",
    "    # create residualized objects to fill\n",
    "    ytil <- dtil <- rep(NA, nobs)\n",
    "    \n",
    "    # Step 2: run the OOS orthogonalizations\n",
    "    cat(\"fold: \")\n",
    "    for(b in 1:length(I)){\n",
    "        #Treatment Regression\n",
    "        dfit <- dreg(x[-I[[b]],], d[-I[[b]]])\n",
    "        #Response regression\n",
    "        yfit <- yreg(x[-I[[b]],], y[-I[[b]]])\n",
    "        \n",
    "        #calculate fitted values of above regressions\n",
    "        dhat <- predict(dfit, x[I[[b]],], type=\"response\")\n",
    "        yhat <- predict(yfit, x[I[[b]],], type=\"response\")\n",
    "        \n",
    "        #Calculate and store residuals of above regressions\n",
    "        dtil[I[[b]]] <- drop(d[I[[b]]] - dhat)\n",
    "        ytil[I[[b]]] <- drop(y[I[[b]]] - yhat)\n",
    "        cat(b,\" \")\n",
    "    }\n",
    "    \n",
    "    #Step 3: Fitted regression of residuals from step 2\n",
    "    rfit <- lm(ytil ~ dtil)\n",
    "    gam <- coef(rfit)[2]\n",
    "    \n",
    "    #Calculate standard errors\n",
    "    se <- sqrt(vcovHC(rfit)[2,2])\n",
    "    cat(sprintf(\"\\ngamma (se) = %g (%g)\\n\", gam, se))\n",
    "\n",
    "    return( list(gam=gam, se=se, dtil=dtil, ytil=ytil) )\n",
    "}"
   ]
  },
  {
   "cell_type": "code",
   "execution_count": 40,
   "metadata": {},
   "outputs": [
    {
     "name": "stdout",
     "output_type": "stream",
     "text": [
      "fold: 1  2  3  4  5  \n",
      "gamma (se) = -0.0335877 (0.107443)\n"
     ]
    }
   ],
   "source": [
    "##Use above function with glmnet\n",
    "\n",
    "#Define dreg and yreg\n",
    "dreg <- function(x,d){ cv.glmnet(x, d, lambda.min.ratio=1e-5, nfolds=5) }\n",
    "\n",
    "yreg <- function(x,y){ cv.glmnet(x, y, lambda.min.ratio=1e-5, nfolds=5) }\n",
    "\n",
    "#Run orthoPLTE\n",
    "resids <- orthoPLTE( x=x, d=d, y=y, \n",
    "                    dreg=dreg, yreg=yreg, nfold=5)"
   ]
  },
  {
   "cell_type": "markdown",
   "metadata": {},
   "source": [
    "### Look to hockey_ortho.R script for sample splitting and double ml for ptle applied to the hockey example."
   ]
  },
  {
   "cell_type": "markdown",
   "metadata": {},
   "source": [
    "## Demand Analysis\n",
    "\n",
    "We can utilize the PTLE model to estimate short-term price elasticities. Where elasticity is\n",
    "### \\begin{align} \\gamma = \\frac{\\frac{\\Delta q}{q}}{\\frac{\\Delta p}{p}} = \\frac{p \\Delta q}{q \\Delta p} \\end{align}\n",
    "\n",
    "#### We will work through an example of sales of beer at Dominick's store to discuss the application of PTLE for demand analysis.\n",
    "\n",
    "# ^^^CODE IS NOT GOOD FOR THIS SECTION (Demand Analysis)^^^^\n",
    "\n",
    "I believe the dataset to use is dominick_beer.R but nothing matches to that of the textbook. My feeling is that the dataset is incomplete and missing the first 91 weeks of observation. Further, the r-script is confusing into relation of the script used in the chapter. Potentially, the r-script and data is missing altogether for this section."
   ]
  },
  {
   "cell_type": "markdown",
   "metadata": {},
   "source": [
    "## Synthetic Controls\n",
    "\n",
    "We will use a dataset that concerns the economic costs of terrorism is the Basque region of Spain to work through the synthetic controls algorithm. The synthetic controls algorithm works by\n",
    "1. Building a regression model to predict $\\mathbb{E}[y_{1t}(0)|y_{-1t}(0)]$ and estimate it for periods=t...T\n",
    "2. Use the step 1 regression to predict $\\hat{y}_{1T+1}(0)$, $\\hat{y}_{1T+2}(0)$, etc. and estimate the treatment effect at each point in time as\n",
    "\\begin{align} \\hat{\\gamma}_{1T+s} = \\y_{1T+s}(1) - \\hat{y}_{1T+s}(0)\n",
    "\n",
    "\n",
    "#### Code for this section is in the basque_commented.R script file."
   ]
  }
 ],
 "metadata": {
  "kernelspec": {
   "display_name": "R",
   "language": "R",
   "name": "ir"
  },
  "language_info": {
   "codemirror_mode": "r",
   "file_extension": ".r",
   "mimetype": "text/x-r-source",
   "name": "R",
   "pygments_lexer": "r",
   "version": "3.5.1"
  }
 },
 "nbformat": 4,
 "nbformat_minor": 2
}
